{
  "nbformat": 4,
  "nbformat_minor": 0,
  "metadata": {
    "colab": {
      "provenance": [],
      "authorship_tag": "ABX9TyO5W5fmYeLmHZzaRj/6ewHM",
      "include_colab_link": true
    },
    "kernelspec": {
      "name": "python3",
      "display_name": "Python 3"
    },
    "language_info": {
      "name": "python"
    }
  },
  "cells": [
    {
      "cell_type": "markdown",
      "metadata": {
        "id": "view-in-github",
        "colab_type": "text"
      },
      "source": [
        "<a href=\"https://colab.research.google.com/github/nnh92/Convert-txt-to-csv/blob/20230408/Convert_lst_to_excel.ipynb\" target=\"_parent\"><img src=\"https://colab.research.google.com/assets/colab-badge.svg\" alt=\"Open In Colab\"/></a>"
      ]
    },
    {
      "cell_type": "code",
      "execution_count": null,
      "metadata": {
        "id": "Gxyi-B4WitOD"
      },
      "outputs": [],
      "source": [
        "import os\n",
        "import pandas as pd\n",
        "\n",
        "src = \"C:\\\\1\"\n",
        "file = [os.path.join(src,f) for f in os.listdir(src)]\n",
        "print(file)\n",
        "\n",
        "Vy_list = []\n",
        "for file_i in file:\n",
        "    if '.lst' in file_i:\n",
        "        # dir\n",
        "        print(file_i)\n",
        "        # Excel sheet name\n",
        "        sheetName = file_i[len(file_i)-12:len(file_i)-4]\n",
        "\n",
        "        f = open(file_i, 'r')\n",
        "        f = f.read().split(\"\\n\")\n",
        "\n",
        "        Excel_dir = os.makedirs(src + \"\\Data_excel\", exist_ok= True)\n",
        "\n",
        "        # Find data value, delete unnecessary data\n",
        "        for fi in f:\n",
        "            if fi == \"       No        VX        VY        VZ     PHI-X     PHI-Y     PHI-Z\":\n",
        "                f = f[f.index(fi)+2:]\n",
        "\n",
        "        # Choose Node, Vy\n",
        "        new_lst = []\n",
        "        for fi in f:\n",
        "            new_lst.append([fi.split()[0], fi.split()[2]])\n",
        "\n",
        "        # Add new data to Vy_list\n",
        "        if Vy_list == []:\n",
        "            Vy_list = new_lst\n",
        "        else:\n",
        "            for i in Vy_list:\n",
        "                i.append(new_lst[Vy_list.index(i)][1])\n",
        "\n",
        "# Export data to excel\n",
        "#print(Vy_list)\n",
        "df_data = pd.DataFrame(Vy_list)\n",
        "path = 'C:\\\\1\\Data_excel\\Data.xlsx'\n",
        "df_data.to_excel(path)\n",
        "print(\"Da xuat DL thanh cong\")"
      ]
    }
  ]
}